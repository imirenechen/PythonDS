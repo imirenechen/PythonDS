{
 "cells": [
  {
   "cell_type": "markdown",
   "metadata": {
    "id": "P6xk2_jLsvFF"
   },
   "source": [
    "### [作業目標]\n",
    "\n",
    "1. [簡答題] 請問下列這三種方法有什麼不同？\n",
    "\n",
    "```\n",
    "print(a.sum()) \n",
    "print(np.sum(a))\n",
    "print(sum(a)) \n",
    "```\n",
    "\n",
    "2. 請對一個 5x5 的隨機矩陣作正規化的操作。\n",
    "\n",
    "3. 請建立一個長度等於 10 的正整數向量，並且將其中的最大值改成 -1。\n"
   ]
  },
  {
   "cell_type": "markdown",
   "metadata": {
    "id": "lbz8VjL6jxyL"
   },
   "source": [
    "### 1. [簡答題] 請問下列這三種方法有什麼不同？\n",
    "\n",
    "```\n",
    "print(a.sum()) \n",
    "print(np.sum(a))\n",
    "print(sum(a)) \n",
    "```"
   ]
  },
  {
   "cell_type": "markdown",
   "metadata": {
    "id": "5QrYoyNWsvFS",
    "outputId": "e9e14d36-38ce-4ce5-edf2-3c7b129db580"
   },
   "source": [
    "### <font color=#0000FF>Ans: sum(a)是Python的內建函數, 所有型態都可使用, 另外兩種是array的函數</font>"
   ]
  },
  {
   "cell_type": "markdown",
   "metadata": {
    "id": "vVrjBXabjxyS"
   },
   "source": [
    "### 2. 請對一個 5x5 的隨機矩陣作正規化的操作。\n"
   ]
  },
  {
   "cell_type": "code",
   "execution_count": 1,
   "metadata": {
    "id": "ffDRVHs9jxyS"
   },
   "outputs": [
    {
     "name": "stdout",
     "output_type": "stream",
     "text": [
      "[[0.44509035 0.78837749 0.58613531 0.87835172 0.37447693]\n",
      " [0.20245654 0.66760777 0.9850418  0.78885866 0.17398747]\n",
      " [0.22853008 0.19144664 0.61017311 0.95626084 0.08981437]\n",
      " [0.75620887 0.07275961 0.2962086  0.64838922 0.437441  ]\n",
      " [0.59205399 0.9342729  0.16073145 0.46954794 0.36899151]]\n"
     ]
    }
   ],
   "source": [
    "import numpy as np\n",
    "\n",
    "A = np.random.random((5, 5))\n",
    "print(A)"
   ]
  },
  {
   "cell_type": "code",
   "execution_count": 2,
   "metadata": {
    "id": "e1gVI0tvsvFY",
    "outputId": "43bf676f-fd04-4edf-c062-b5fe7fe1f4bf"
   },
   "outputs": [
    {
     "name": "stdout",
     "output_type": "stream",
     "text": [
      "[[0.40813111 0.78442602 0.56273784 0.88305146 0.33072806]\n",
      " [0.14216755 0.65204403 1.         0.78495345 0.11096113]\n",
      " [0.17074812 0.13009903 0.58908691 0.96845169 0.01869461]\n",
      " [0.74916432 0.         0.24493407 0.63097758 0.39974625]\n",
      " [0.56922561 0.94434957 0.09643051 0.43494035 0.3247152 ]]\n"
     ]
    }
   ],
   "source": [
    "A = (A - A.min()) / (A.max() - A.min())\n",
    "print(A)"
   ]
  },
  {
   "cell_type": "markdown",
   "metadata": {
    "id": "Ptc3ZrNQjxyU"
   },
   "source": [
    "### 3. 請建立一個長度等於 10 的正整數向量，並且將其中的最大值改成 -1。\n"
   ]
  },
  {
   "cell_type": "code",
   "execution_count": 3,
   "metadata": {
    "id": "Yu1kbLxojxyU",
    "outputId": "d323e754-178a-46ae-e15e-98275ae220dd"
   },
   "outputs": [
    {
     "name": "stdout",
     "output_type": "stream",
     "text": [
      "[0.08899279 0.4297903  0.76646633 0.54873424 0.80810468 0.33068891\n",
      " 0.32588739 0.85213075 0.61559101 0.12028969]\n",
      "[ 0.08899279  0.4297903   0.76646633  0.54873424  0.80810468  0.33068891\n",
      "  0.32588739 -1.          0.61559101  0.12028969]\n"
     ]
    }
   ],
   "source": [
    "B = np.random.random(10)\n",
    "print(B)\n",
    "B[B.argmax()] = -1\n",
    "print(B)"
   ]
  }
 ],
 "metadata": {
  "colab": {
   "name": "06 Homework_維元.ipynb",
   "provenance": []
  },
  "kernelspec": {
   "display_name": "Python 3 (ipykernel)",
   "language": "python",
   "name": "python3"
  },
  "language_info": {
   "codemirror_mode": {
    "name": "ipython",
    "version": 3
   },
   "file_extension": ".py",
   "mimetype": "text/x-python",
   "name": "python",
   "nbconvert_exporter": "python",
   "pygments_lexer": "ipython3",
   "version": "3.9.12"
  }
 },
 "nbformat": 4,
 "nbformat_minor": 1
}
